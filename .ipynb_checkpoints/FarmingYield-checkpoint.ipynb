{
 "cells": [
  {
   "cell_type": "markdown",
   "metadata": {},
   "source": [
    "### Importer les paquetages necessaire"
   ]
  },
  {
   "cell_type": "code",
   "execution_count": 2,
   "metadata": {},
   "outputs": [],
   "source": [
    "import csv\n",
    "import pandas as pd\n",
    "import numpy as np\n",
    "from sklearn import linear_model, svm, preprocessing\n",
    "from sklearn.linear_model import LinearRegression\n",
    "import matplotlib.pyplot as plt\n",
    "import math\n",
    "from sklearn.model_selection import GroupShuffleSplit\n",
    "from sklearn.model_selection import LeaveOneGroupOut\n",
    "from sklearn.model_selection import GroupKFold\n",
    "from sklearn.model_selection import LeavePGroupsOut\n",
    "from sklearn.model_selection import cross_val_score\n",
    "from sklearn.ensemble import RandomForestClassifier\n",
    "from sklearn.ensemble import ExtraTreesClassifier\n",
    "from sklearn.tree import DecisionTreeClassifier\n",
    "from sklearn.model_selection import cross_val_score\n",
    "import seaborn as sns\n",
    "import matplotlib.pyplot as plt\n",
    "from sklearn.tree import DecisionTreeClassifier\n",
    "from info_gain import info_gain\n",
    "from sklearn.tree import export_graphviz\n",
    "from sklearn.externals.six import StringIO  \n",
    "from IPython.display import Image  \n",
    "import pydotplus\n",
    "from sklearn.model_selection import cross_val_score\n",
    "from sklearn.ensemble import RandomForestClassifier"
   ]
  },
  {
   "cell_type": "markdown",
   "metadata": {},
   "source": [
    "# Data Preparation "
   ]
  },
  {
   "cell_type": "markdown",
   "metadata": {},
   "source": [
    "### Lecture de la dataset"
   ]
  },
  {
   "cell_type": "code",
   "execution_count": 3,
   "metadata": {},
   "outputs": [],
   "source": [
    "#read data\n",
    "data1 = pd.read_csv('wheat-2013-supervised.csv')\n",
    "data2 = pd.read_csv('wheat-2014-supervised.csv')"
   ]
  },
  {
   "cell_type": "code",
   "execution_count": 4,
   "metadata": {},
   "outputs": [
    {
     "data": {
      "text/html": [
       "<div>\n",
       "<style scoped>\n",
       "    .dataframe tbody tr th:only-of-type {\n",
       "        vertical-align: middle;\n",
       "    }\n",
       "\n",
       "    .dataframe tbody tr th {\n",
       "        vertical-align: top;\n",
       "    }\n",
       "\n",
       "    .dataframe thead th {\n",
       "        text-align: right;\n",
       "    }\n",
       "</style>\n",
       "<table border=\"1\" class=\"dataframe\">\n",
       "  <thead>\n",
       "    <tr style=\"text-align: right;\">\n",
       "      <th></th>\n",
       "      <th>CountyName</th>\n",
       "      <th>State</th>\n",
       "      <th>Latitude</th>\n",
       "      <th>Longitude</th>\n",
       "      <th>Date</th>\n",
       "      <th>apparentTemperatureMax</th>\n",
       "      <th>apparentTemperatureMin</th>\n",
       "      <th>cloudCover</th>\n",
       "      <th>dewPoint</th>\n",
       "      <th>humidity</th>\n",
       "      <th>...</th>\n",
       "      <th>precipTypeIsOther</th>\n",
       "      <th>pressure</th>\n",
       "      <th>temperatureMax</th>\n",
       "      <th>temperatureMin</th>\n",
       "      <th>visibility</th>\n",
       "      <th>windBearing</th>\n",
       "      <th>windSpeed</th>\n",
       "      <th>NDVI</th>\n",
       "      <th>DayInSeason</th>\n",
       "      <th>Yield</th>\n",
       "    </tr>\n",
       "  </thead>\n",
       "  <tbody>\n",
       "    <tr>\n",
       "      <th>0</th>\n",
       "      <td>Adams</td>\n",
       "      <td>Washington</td>\n",
       "      <td>46.811686</td>\n",
       "      <td>-118.695237</td>\n",
       "      <td>11/30/2013 0:00</td>\n",
       "      <td>35.70</td>\n",
       "      <td>20.85</td>\n",
       "      <td>0.00</td>\n",
       "      <td>29.53</td>\n",
       "      <td>0.91</td>\n",
       "      <td>...</td>\n",
       "      <td>0</td>\n",
       "      <td>1027.13</td>\n",
       "      <td>35.70</td>\n",
       "      <td>27.48</td>\n",
       "      <td>2.46</td>\n",
       "      <td>214</td>\n",
       "      <td>1.18</td>\n",
       "      <td>134.110657</td>\n",
       "      <td>0</td>\n",
       "      <td>35.7</td>\n",
       "    </tr>\n",
       "    <tr>\n",
       "      <th>1</th>\n",
       "      <td>Adams</td>\n",
       "      <td>Washington</td>\n",
       "      <td>46.929839</td>\n",
       "      <td>-118.352109</td>\n",
       "      <td>11/30/2013 0:00</td>\n",
       "      <td>35.10</td>\n",
       "      <td>26.92</td>\n",
       "      <td>0.00</td>\n",
       "      <td>29.77</td>\n",
       "      <td>0.93</td>\n",
       "      <td>...</td>\n",
       "      <td>0</td>\n",
       "      <td>1026.87</td>\n",
       "      <td>35.10</td>\n",
       "      <td>26.92</td>\n",
       "      <td>2.83</td>\n",
       "      <td>166</td>\n",
       "      <td>1.01</td>\n",
       "      <td>131.506592</td>\n",
       "      <td>0</td>\n",
       "      <td>35.7</td>\n",
       "    </tr>\n",
       "    <tr>\n",
       "      <th>2</th>\n",
       "      <td>Adams</td>\n",
       "      <td>Washington</td>\n",
       "      <td>47.006888</td>\n",
       "      <td>-118.510160</td>\n",
       "      <td>11/30/2013 0:00</td>\n",
       "      <td>33.38</td>\n",
       "      <td>26.95</td>\n",
       "      <td>0.00</td>\n",
       "      <td>29.36</td>\n",
       "      <td>0.94</td>\n",
       "      <td>...</td>\n",
       "      <td>0</td>\n",
       "      <td>1026.88</td>\n",
       "      <td>33.38</td>\n",
       "      <td>26.95</td>\n",
       "      <td>2.95</td>\n",
       "      <td>158</td>\n",
       "      <td>1.03</td>\n",
       "      <td>131.472946</td>\n",
       "      <td>0</td>\n",
       "      <td>35.7</td>\n",
       "    </tr>\n",
       "    <tr>\n",
       "      <th>3</th>\n",
       "      <td>Adams</td>\n",
       "      <td>Washington</td>\n",
       "      <td>47.162342</td>\n",
       "      <td>-118.699677</td>\n",
       "      <td>11/30/2013 0:00</td>\n",
       "      <td>28.05</td>\n",
       "      <td>25.93</td>\n",
       "      <td>0.91</td>\n",
       "      <td>29.47</td>\n",
       "      <td>0.94</td>\n",
       "      <td>...</td>\n",
       "      <td>0</td>\n",
       "      <td>1026.37</td>\n",
       "      <td>33.19</td>\n",
       "      <td>27.17</td>\n",
       "      <td>2.89</td>\n",
       "      <td>153</td>\n",
       "      <td>1.84</td>\n",
       "      <td>131.288300</td>\n",
       "      <td>0</td>\n",
       "      <td>35.7</td>\n",
       "    </tr>\n",
       "    <tr>\n",
       "      <th>4</th>\n",
       "      <td>Adams</td>\n",
       "      <td>Washington</td>\n",
       "      <td>47.157512</td>\n",
       "      <td>-118.434056</td>\n",
       "      <td>11/30/2013 0:00</td>\n",
       "      <td>28.83</td>\n",
       "      <td>25.98</td>\n",
       "      <td>0.91</td>\n",
       "      <td>29.86</td>\n",
       "      <td>0.94</td>\n",
       "      <td>...</td>\n",
       "      <td>0</td>\n",
       "      <td>1026.19</td>\n",
       "      <td>33.85</td>\n",
       "      <td>27.07</td>\n",
       "      <td>2.97</td>\n",
       "      <td>156</td>\n",
       "      <td>1.85</td>\n",
       "      <td>131.288300</td>\n",
       "      <td>0</td>\n",
       "      <td>35.7</td>\n",
       "    </tr>\n",
       "  </tbody>\n",
       "</table>\n",
       "<p>5 rows × 26 columns</p>\n",
       "</div>"
      ],
      "text/plain": [
       "  CountyName       State   Latitude   Longitude             Date  \\\n",
       "0      Adams  Washington  46.811686 -118.695237  11/30/2013 0:00   \n",
       "1      Adams  Washington  46.929839 -118.352109  11/30/2013 0:00   \n",
       "2      Adams  Washington  47.006888 -118.510160  11/30/2013 0:00   \n",
       "3      Adams  Washington  47.162342 -118.699677  11/30/2013 0:00   \n",
       "4      Adams  Washington  47.157512 -118.434056  11/30/2013 0:00   \n",
       "\n",
       "   apparentTemperatureMax  apparentTemperatureMin  cloudCover  dewPoint  \\\n",
       "0                   35.70                   20.85        0.00     29.53   \n",
       "1                   35.10                   26.92        0.00     29.77   \n",
       "2                   33.38                   26.95        0.00     29.36   \n",
       "3                   28.05                   25.93        0.91     29.47   \n",
       "4                   28.83                   25.98        0.91     29.86   \n",
       "\n",
       "   humidity  ...    precipTypeIsOther  pressure  temperatureMax  \\\n",
       "0      0.91  ...                    0   1027.13           35.70   \n",
       "1      0.93  ...                    0   1026.87           35.10   \n",
       "2      0.94  ...                    0   1026.88           33.38   \n",
       "3      0.94  ...                    0   1026.37           33.19   \n",
       "4      0.94  ...                    0   1026.19           33.85   \n",
       "\n",
       "   temperatureMin  visibility  windBearing  windSpeed        NDVI  \\\n",
       "0           27.48        2.46          214       1.18  134.110657   \n",
       "1           26.92        2.83          166       1.01  131.506592   \n",
       "2           26.95        2.95          158       1.03  131.472946   \n",
       "3           27.17        2.89          153       1.84  131.288300   \n",
       "4           27.07        2.97          156       1.85  131.288300   \n",
       "\n",
       "   DayInSeason  Yield  \n",
       "0            0   35.7  \n",
       "1            0   35.7  \n",
       "2            0   35.7  \n",
       "3            0   35.7  \n",
       "4            0   35.7  \n",
       "\n",
       "[5 rows x 26 columns]"
      ]
     },
     "execution_count": 4,
     "metadata": {},
     "output_type": "execute_result"
    }
   ],
   "source": [
    "data1.head(5)"
   ]
  },
  {
   "cell_type": "code",
   "execution_count": 5,
   "metadata": {},
   "outputs": [
    {
     "data": {
      "image/png": "[encoded data removed]",
      "text/plain": [
       "<Figure size 864x720 with 1 Axes>"
      ]
     },
     "metadata": {
      "needs_background": "light"
     },
     "output_type": "display_data"
    }
   ],
   "source": [
    "plt.subplots(figsize=(12,10))\n",
    "list1=[]\n",
    "for i in data1['CountyName']:\n",
    "    list1.append(i)\n",
    "ax=pd.Series(list1).value_counts()[:10].sort_values(ascending=True).plot.barh(width=0.9,color=sns.color_palette('RdBu_r',10))\n",
    "for i, v in enumerate(pd.Series(list1).value_counts()[:10].sort_values(ascending=True).values): \n",
    "    ax.text(.9, i, v,fontsize=12,color='white',weight='bold')\n",
    "ax.patches[9].set_facecolor('r')\n",
    "plt.title('Les Pays les plus étudiés')\n",
    "plt.show()"
   ]
  },
  {
   "cell_type": "code",
   "execution_count": 11,
   "metadata": {},
   "outputs": [
    {
     "ename": "IndexError",
     "evalue": "list index out of range",
     "output_type": "error",
     "traceback": [
      "\u001b[1;31m---------------------------------------------------------------------------\u001b[0m",
      "\u001b[1;31mIndexError\u001b[0m                                Traceback (most recent call last)",
      "\u001b[1;32m<ipython-input-11-c29ddc615eb8>\u001b[0m in \u001b[0;36m<module>\u001b[1;34m\u001b[0m\n\u001b[0;32m      6\u001b[0m \u001b[1;32mfor\u001b[0m \u001b[0mi\u001b[0m\u001b[1;33m,\u001b[0m \u001b[0mv\u001b[0m \u001b[1;32min\u001b[0m \u001b[0menumerate\u001b[0m\u001b[1;33m(\u001b[0m\u001b[0mpd\u001b[0m\u001b[1;33m.\u001b[0m\u001b[0mSeries\u001b[0m\u001b[1;33m(\u001b[0m\u001b[0mlist1\u001b[0m\u001b[1;33m)\u001b[0m\u001b[1;33m.\u001b[0m\u001b[0mvalue_counts\u001b[0m\u001b[1;33m(\u001b[0m\u001b[1;33m)\u001b[0m\u001b[1;33m[\u001b[0m\u001b[1;33m:\u001b[0m\u001b[1;36m7\u001b[0m\u001b[1;33m]\u001b[0m\u001b[1;33m.\u001b[0m\u001b[0msort_values\u001b[0m\u001b[1;33m(\u001b[0m\u001b[0mascending\u001b[0m\u001b[1;33m=\u001b[0m\u001b[1;32mTrue\u001b[0m\u001b[1;33m)\u001b[0m\u001b[1;33m.\u001b[0m\u001b[0mvalues\u001b[0m\u001b[1;33m)\u001b[0m\u001b[1;33m:\u001b[0m\u001b[1;33m\u001b[0m\u001b[1;33m\u001b[0m\u001b[0m\n\u001b[0;32m      7\u001b[0m     \u001b[0max\u001b[0m\u001b[1;33m.\u001b[0m\u001b[0mtext\u001b[0m\u001b[1;33m(\u001b[0m\u001b[1;36m.7\u001b[0m\u001b[1;33m,\u001b[0m \u001b[0mi\u001b[0m\u001b[1;33m,\u001b[0m \u001b[0mv\u001b[0m\u001b[1;33m,\u001b[0m\u001b[0mfontsize\u001b[0m\u001b[1;33m=\u001b[0m\u001b[1;36m12\u001b[0m\u001b[1;33m,\u001b[0m\u001b[0mcolor\u001b[0m\u001b[1;33m=\u001b[0m\u001b[1;34m'white'\u001b[0m\u001b[1;33m,\u001b[0m\u001b[0mweight\u001b[0m\u001b[1;33m=\u001b[0m\u001b[1;34m'bold'\u001b[0m\u001b[1;33m)\u001b[0m\u001b[1;33m\u001b[0m\u001b[1;33m\u001b[0m\u001b[0m\n\u001b[1;32m----> 8\u001b[1;33m \u001b[0max\u001b[0m\u001b[1;33m.\u001b[0m\u001b[0mpatches\u001b[0m\u001b[1;33m[\u001b[0m\u001b[1;36m7\u001b[0m\u001b[1;33m]\u001b[0m\u001b[1;33m.\u001b[0m\u001b[0mset_facecolor\u001b[0m\u001b[1;33m(\u001b[0m\u001b[1;34m'r'\u001b[0m\u001b[1;33m)\u001b[0m\u001b[1;33m\u001b[0m\u001b[1;33m\u001b[0m\u001b[0m\n\u001b[0m\u001b[0;32m      9\u001b[0m \u001b[0mplt\u001b[0m\u001b[1;33m.\u001b[0m\u001b[0mtitle\u001b[0m\u001b[1;33m(\u001b[0m\u001b[1;34m'Les villes les plus étudiés'\u001b[0m\u001b[1;33m)\u001b[0m\u001b[1;33m\u001b[0m\u001b[1;33m\u001b[0m\u001b[0m\n\u001b[0;32m     10\u001b[0m \u001b[0mplt\u001b[0m\u001b[1;33m.\u001b[0m\u001b[0mshow\u001b[0m\u001b[1;33m(\u001b[0m\u001b[1;33m)\u001b[0m\u001b[1;33m\u001b[0m\u001b[1;33m\u001b[0m\u001b[0m\n",
      "\u001b[1;31mIndexError\u001b[0m: list index out of range"
     ]
    },
    {
     "data": {
      "image/png": "[encoded data removed]",
      "text/plain": [
       "<Figure size 864x720 with 1 Axes>"
      ]
     },
     "metadata": {
      "needs_background": "light"
     },
     "output_type": "display_data"
    }
   ],
   "source": [
    "plt.subplots(figsize=(12,10))\n",
    "list1=[]\n",
    "for i in data1['State']:\n",
    "    list1.append(i)\n",
    "ax=pd.Series(list1).value_counts()[:8].sort_values(ascending=True).plot.barh(width=0.9,color=sns.color_palette('RdBu_r',10))\n",
    "for i, v in enumerate(pd.Series(list1).value_counts()[:7].sort_values(ascending=True).values): \n",
    "    ax.text(.7, i, v,fontsize=12,color='white',weight='bold')\n",
    "ax.patches[7].set_facecolor('r')\n",
    "plt.title('Les villes les plus étudiés')\n",
    "plt.show()"
   ]
  },
  {
   "cell_type": "markdown",
   "metadata": {},
   "source": [
    "## Fusionner les deux datasets"
   ]
  },
  {
   "cell_type": "code",
   "execution_count": 7,
   "metadata": {
    "scrolled": false
   },
   "outputs": [
    {
     "data": {
      "text/html": [
       "<div>\n",
       "<style scoped>\n",
       "    .dataframe tbody tr th:only-of-type {\n",
       "        vertical-align: middle;\n",
       "    }\n",
       "\n",
       "    .dataframe tbody tr th {\n",
       "        vertical-align: top;\n",
       "    }\n",
       "\n",
       "    .dataframe thead th {\n",
       "        text-align: right;\n",
       "    }\n",
       "</style>\n",
       "<table border=\"1\" class=\"dataframe\">\n",
       "  <thead>\n",
       "    <tr style=\"text-align: right;\">\n",
       "      <th></th>\n",
       "      <th>CountyName</th>\n",
       "      <th>State</th>\n",
       "      <th>Latitude</th>\n",
       "      <th>Longitude</th>\n",
       "      <th>Date</th>\n",
       "      <th>apparentTemperatureMax</th>\n",
       "      <th>apparentTemperatureMin</th>\n",
       "      <th>cloudCover</th>\n",
       "      <th>dewPoint</th>\n",
       "      <th>humidity</th>\n",
       "      <th>...</th>\n",
       "      <th>precipTypeIsOther</th>\n",
       "      <th>pressure</th>\n",
       "      <th>temperatureMax</th>\n",
       "      <th>temperatureMin</th>\n",
       "      <th>visibility</th>\n",
       "      <th>windBearing</th>\n",
       "      <th>windSpeed</th>\n",
       "      <th>NDVI</th>\n",
       "      <th>DayInSeason</th>\n",
       "      <th>Yield</th>\n",
       "    </tr>\n",
       "  </thead>\n",
       "  <tbody>\n",
       "    <tr>\n",
       "      <th>0</th>\n",
       "      <td>Adams</td>\n",
       "      <td>Washington</td>\n",
       "      <td>46.811686</td>\n",
       "      <td>-118.695237</td>\n",
       "      <td>11/30/2013 0:00</td>\n",
       "      <td>35.70</td>\n",
       "      <td>20.85</td>\n",
       "      <td>0.00</td>\n",
       "      <td>29.53</td>\n",
       "      <td>0.91</td>\n",
       "      <td>...</td>\n",
       "      <td>0</td>\n",
       "      <td>1027.13</td>\n",
       "      <td>35.70</td>\n",
       "      <td>27.48</td>\n",
       "      <td>2.46</td>\n",
       "      <td>214</td>\n",
       "      <td>1.18</td>\n",
       "      <td>134.110657</td>\n",
       "      <td>0</td>\n",
       "      <td>35.7</td>\n",
       "    </tr>\n",
       "    <tr>\n",
       "      <th>1</th>\n",
       "      <td>Adams</td>\n",
       "      <td>Washington</td>\n",
       "      <td>46.929839</td>\n",
       "      <td>-118.352109</td>\n",
       "      <td>11/30/2013 0:00</td>\n",
       "      <td>35.10</td>\n",
       "      <td>26.92</td>\n",
       "      <td>0.00</td>\n",
       "      <td>29.77</td>\n",
       "      <td>0.93</td>\n",
       "      <td>...</td>\n",
       "      <td>0</td>\n",
       "      <td>1026.87</td>\n",
       "      <td>35.10</td>\n",
       "      <td>26.92</td>\n",
       "      <td>2.83</td>\n",
       "      <td>166</td>\n",
       "      <td>1.01</td>\n",
       "      <td>131.506592</td>\n",
       "      <td>0</td>\n",
       "      <td>35.7</td>\n",
       "    </tr>\n",
       "    <tr>\n",
       "      <th>2</th>\n",
       "      <td>Adams</td>\n",
       "      <td>Washington</td>\n",
       "      <td>47.006888</td>\n",
       "      <td>-118.510160</td>\n",
       "      <td>11/30/2013 0:00</td>\n",
       "      <td>33.38</td>\n",
       "      <td>26.95</td>\n",
       "      <td>0.00</td>\n",
       "      <td>29.36</td>\n",
       "      <td>0.94</td>\n",
       "      <td>...</td>\n",
       "      <td>0</td>\n",
       "      <td>1026.88</td>\n",
       "      <td>33.38</td>\n",
       "      <td>26.95</td>\n",
       "      <td>2.95</td>\n",
       "      <td>158</td>\n",
       "      <td>1.03</td>\n",
       "      <td>131.472946</td>\n",
       "      <td>0</td>\n",
       "      <td>35.7</td>\n",
       "    </tr>\n",
       "    <tr>\n",
       "      <th>3</th>\n",
       "      <td>Adams</td>\n",
       "      <td>Washington</td>\n",
       "      <td>47.162342</td>\n",
       "      <td>-118.699677</td>\n",
       "      <td>11/30/2013 0:00</td>\n",
       "      <td>28.05</td>\n",
       "      <td>25.93</td>\n",
       "      <td>0.91</td>\n",
       "      <td>29.47</td>\n",
       "      <td>0.94</td>\n",
       "      <td>...</td>\n",
       "      <td>0</td>\n",
       "      <td>1026.37</td>\n",
       "      <td>33.19</td>\n",
       "      <td>27.17</td>\n",
       "      <td>2.89</td>\n",
       "      <td>153</td>\n",
       "      <td>1.84</td>\n",
       "      <td>131.288300</td>\n",
       "      <td>0</td>\n",
       "      <td>35.7</td>\n",
       "    </tr>\n",
       "    <tr>\n",
       "      <th>4</th>\n",
       "      <td>Adams</td>\n",
       "      <td>Washington</td>\n",
       "      <td>47.157512</td>\n",
       "      <td>-118.434056</td>\n",
       "      <td>11/30/2013 0:00</td>\n",
       "      <td>28.83</td>\n",
       "      <td>25.98</td>\n",
       "      <td>0.91</td>\n",
       "      <td>29.86</td>\n",
       "      <td>0.94</td>\n",
       "      <td>...</td>\n",
       "      <td>0</td>\n",
       "      <td>1026.19</td>\n",
       "      <td>33.85</td>\n",
       "      <td>27.07</td>\n",
       "      <td>2.97</td>\n",
       "      <td>156</td>\n",
       "      <td>1.85</td>\n",
       "      <td>131.288300</td>\n",
       "      <td>0</td>\n",
       "      <td>35.7</td>\n",
       "    </tr>\n",
       "  </tbody>\n",
       "</table>\n",
       "<p>5 rows × 26 columns</p>\n",
       "</div>"
      ],
      "text/plain": [
       "  CountyName       State   Latitude   Longitude             Date  \\\n",
       "0      Adams  Washington  46.811686 -118.695237  11/30/2013 0:00   \n",
       "1      Adams  Washington  46.929839 -118.352109  11/30/2013 0:00   \n",
       "2      Adams  Washington  47.006888 -118.510160  11/30/2013 0:00   \n",
       "3      Adams  Washington  47.162342 -118.699677  11/30/2013 0:00   \n",
       "4      Adams  Washington  47.157512 -118.434056  11/30/2013 0:00   \n",
       "\n",
       "   apparentTemperatureMax  apparentTemperatureMin  cloudCover  dewPoint  \\\n",
       "0                   35.70                   20.85        0.00     29.53   \n",
       "1                   35.10                   26.92        0.00     29.77   \n",
       "2                   33.38                   26.95        0.00     29.36   \n",
       "3                   28.05                   25.93        0.91     29.47   \n",
       "4                   28.83                   25.98        0.91     29.86   \n",
       "\n",
       "   humidity  ...    precipTypeIsOther  pressure  temperatureMax  \\\n",
       "0      0.91  ...                    0   1027.13           35.70   \n",
       "1      0.93  ...                    0   1026.87           35.10   \n",
       "2      0.94  ...                    0   1026.88           33.38   \n",
       "3      0.94  ...                    0   1026.37           33.19   \n",
       "4      0.94  ...                    0   1026.19           33.85   \n",
       "\n",
       "   temperatureMin  visibility  windBearing  windSpeed        NDVI  \\\n",
       "0           27.48        2.46          214       1.18  134.110657   \n",
       "1           26.92        2.83          166       1.01  131.506592   \n",
       "2           26.95        2.95          158       1.03  131.472946   \n",
       "3           27.17        2.89          153       1.84  131.288300   \n",
       "4           27.07        2.97          156       1.85  131.288300   \n",
       "\n",
       "   DayInSeason  Yield  \n",
       "0            0   35.7  \n",
       "1            0   35.7  \n",
       "2            0   35.7  \n",
       "3            0   35.7  \n",
       "4            0   35.7  \n",
       "\n",
       "[5 rows x 26 columns]"
      ]
     },
     "execution_count": 7,
     "metadata": {},
     "output_type": "execute_result"
    }
   ],
   "source": [
    "#merge two dataset for train the model later\n",
    "merged = data1.append(data2, ignore_index=True)\n",
    "merged = merged[[\"CountyName\",\"State\",\"Latitude\",\"Longitude\",\"Date\",\"apparentTemperatureMax\",\"apparentTemperatureMin\",\"cloudCover\",\"dewPoint\",\"humidity\",\"precipIntensity\",\"precipIntensityMax\",\"precipProbability\",\"precipAccumulation\",\"precipTypeIsRain\",\"precipTypeIsSnow\",\"precipTypeIsOther\",\t\"pressure\",\t\"temperatureMax\",\"temperatureMin\",\"visibility\",\t\"windBearing\",\"windSpeed\",\"NDVI\",\"DayInSeason\",\"Yield\" ]]\n",
    "merged.to_csv('merged.csv', index=None, header=True)\n",
    "mg = pd.read_csv('merged.csv')\n",
    "mg.head(5)"
   ]
  },
  {
   "cell_type": "markdown",
   "metadata": {},
   "source": [
    "## Séléction des données pertiantes"
   ]
  },
  {
   "cell_type": "code",
   "execution_count": 8,
   "metadata": {},
   "outputs": [],
   "source": [
    "#Selection des attributs a traiter\n",
    "mg = mg[[\"Latitude\",\"Longitude\",\"apparentTemperatureMax\",\"apparentTemperatureMin\",\"cloudCover\",\"dewPoint\",\"humidity\",\"precipIntensity\",\"precipIntensityMax\",\"precipProbability\",\"precipAccumulation\",\"precipTypeIsRain\",\"precipTypeIsSnow\",\"precipTypeIsOther\",\t\"pressure\",\t\"temperatureMax\",\"temperatureMin\",\"visibility\",\t\"windBearing\",\"windSpeed\",\"NDVI\",\"DayInSeason\",\"Yield\" ]]\n",
    "\n",
    "#Supprimer les champs vide dans la dataset\n",
    "mg.dropna(inplace=True)\n",
    "\n",
    "#Suppression du champs Yield\n",
    "Attribut = np.array(mg.drop([\"Yield\"],1))\n",
    "\n",
    "Classe = np.asarray(mg['Yield'], dtype=\"|S6\")"
   ]
  },
  {
   "cell_type": "code",
   "execution_count": 9,
   "metadata": {},
   "outputs": [
    {
     "name": "stdout",
     "output_type": "stream",
     "text": [
      "[[  46.8116858 -118.6952372   35.7       ...    1.18       134.1106567\n",
      "     0.       ]\n",
      " [  46.9298391 -118.3521093   35.1       ...    1.01       131.5065918\n",
      "     0.       ]\n",
      " [  47.0068881 -118.5101603   33.38      ...    1.03       131.4729462\n",
      "     0.       ]\n",
      " ...\n",
      " [  38.5808259  -94.7946597   75.4       ...    6.27       129.9389496\n",
      "   185.       ]\n",
      " [  38.5648661  -94.748021    75.35      ...    6.26       129.9389496\n",
      "   185.       ]\n",
      " [  38.3920082  -94.8554297   75.27      ...    6.23       129.7843323\n",
      "   185.       ]]\n"
     ]
    }
   ],
   "source": [
    "print (Attribut)"
   ]
  },
  {
   "cell_type": "markdown",
   "metadata": {},
   "source": [
    "## Impression pour verification"
   ]
  },
  {
   "cell_type": "code",
   "execution_count": 10,
   "metadata": {},
   "outputs": [
    {
     "name": "stdout",
     "output_type": "stream",
     "text": [
      "[b'35.7' b'35.7' b'35.7' ... b'50.1' b'50.1' b'50.1']\n"
     ]
    }
   ],
   "source": [
    "print(Classe)"
   ]
  },
  {
   "cell_type": "markdown",
   "metadata": {},
   "source": [
    "## Etiquetage des valeurs des classes"
   ]
  },
  {
   "cell_type": "code",
   "execution_count": 11,
   "metadata": {},
   "outputs": [
    {
     "name": "stdout",
     "output_type": "stream",
     "text": [
      "0\n"
     ]
    }
   ],
   "source": [
    "classe1 = np.asarray(mg['Yield'])\n",
    "\n",
    "list2=[]\n",
    "\n",
    "for i in classe1:\n",
    "    if i<50: \n",
    "        list2.append(0)\n",
    "    else:\n",
    "        list2.append(1)\n",
    "    \n",
    "print(list2[1000])"
   ]
  },
  {
   "cell_type": "markdown",
   "metadata": {},
   "source": [
    "# Model Building"
   ]
  },
  {
   "cell_type": "markdown",
   "metadata": {},
   "source": [
    "### Arbre de décision"
   ]
  },
  {
   "cell_type": "code",
   "execution_count": 12,
   "metadata": {},
   "outputs": [],
   "source": [
    "dtc = DecisionTreeClassifier()"
   ]
  },
  {
   "cell_type": "code",
   "execution_count": 13,
   "metadata": {},
   "outputs": [],
   "source": [
    "#dtc.fit(Attribut[:],Classe[:])\n",
    "#P=dtc.predict(Attribut[:])\n",
    "dtc.fit(Attribut[:],list2[:])\n",
    "P=dtc.predict(Attribut[:])"
   ]
  },
  {
   "cell_type": "code",
   "execution_count": null,
   "metadata": {},
   "outputs": [
    {
     "name": "stdout",
     "output_type": "stream",
     "text": [
      "dot: graph is too large for cairo-renderer bitmaps. Scaling by 0.248961 to fit\r\n",
      "\n"
     ]
    }
   ],
   "source": [
    "dot_data = StringIO()\n",
    "export_graphviz(dtc, out_file=dot_data,  \n",
    "                filled=True, rounded=True,\n",
    "                special_characters=True,\n",
    "                feature_names =[\"Latitude\",\"Longitude\",\"apparentTemperatureMax\",\"apparentTemperatureMin\",\"cloudCover\",\"dewPoint\",\"humidity\",\"precipIntensity\",\"precipIntensityMax\",\"precipProbability\",\"precipAccumulation\",\"precipTypeIsRain\",\"precipTypeIsSnow\",\"precipTypeIsOther\",\t\"pressure\",\t\"temperatureMax\",\"temperatureMin\",\"visibility\",\t\"windBearing\",\"windSpeed\",\"NDVI\",\"DayInSeason\"],\n",
    "                class_names=['0','1'] )\n",
    "graph = pydotplus.graph_from_dot_data(dot_data.getvalue())  \n",
    "graph.write_png('Farm.png')\n",
    "Image(graph.create_png())"
   ]
  },
  {
   "cell_type": "markdown",
   "metadata": {},
   "source": [
    "### Reduction du nombre d'instances à 100 pour visualisation du l'arbre "
   ]
  },
  {
   "cell_type": "code",
   "execution_count": 14,
   "metadata": {},
   "outputs": [
    {
     "data": {
      "image/png": "[encoded data removed]",
      "text/plain": [
       "<IPython.core.display.Image object>"
      ]
     },
     "execution_count": 14,
     "metadata": {},
     "output_type": "execute_result"
    }
   ],
   "source": [
    "mg2=mg.head(100)\n",
    "\n",
    "attributs1 = np.array(mg2.drop([\"Yield\"],1))\n",
    "classe2 = np.asarray(mg2['Yield'])\n",
    "\n",
    "list_test=[]\n",
    "\n",
    "for i in classe2:\n",
    "    if i<50: \n",
    "        list_test.append(0)\n",
    "    else:\n",
    "        list_test.append(1)\n",
    "    \n",
    "\n",
    "\n",
    "dtc = DecisionTreeClassifier()\n",
    "\n",
    "dtc.fit(attributs1[:],list_test[:])\n",
    "P=dtc.predict(attributs1[:])\n",
    "\n",
    "dot_data = StringIO()\n",
    "export_graphviz(dtc, out_file=dot_data,  \n",
    "                filled=True, rounded=True,\n",
    "                special_characters=True,\n",
    "                feature_names =[\"Latitude\",\"Longitude\",\"apparentTemperatureMax\",\"apparentTemperatureMin\",\"cloudCover\",\"dewPoint\",\"humidity\",\"precipIntensity\",\"precipIntensityMax\",\"precipProbability\",\"precipAccumulation\",\"precipTypeIsRain\",\"precipTypeIsSnow\",\"precipTypeIsOther\",\t\"pressure\",\t\"temperatureMax\",\"temperatureMin\",\"visibility\",\t\"windBearing\",\"windSpeed\",\"NDVI\",\"DayInSeason\"],\n",
    "                class_names=['0','1'] )\n",
    "graph = pydotplus.graph_from_dot_data(dot_data.getvalue())  \n",
    "graph.write_png('FarmRed.png')\n",
    "Image(graph.create_png())"
   ]
  },
  {
   "cell_type": "markdown",
   "metadata": {},
   "source": [
    "## Verfication du résultat "
   ]
  },
  {
   "cell_type": "code",
   "execution_count": 15,
   "metadata": {},
   "outputs": [
    {
     "name": "stdout",
     "output_type": "stream",
     "text": [
      "[0 0 0 0 0 0 0 0 0 0 0 0 0 0 0 0 0 0 0 0 0 0 0 0 0 0 0 0 0 0 0 0 0 0 0 0 1\n",
      " 1 1 1 1 1 1 1 1 1 1 1 0 0 0 0 0 0 0 0 0 0 0 0 0 0 0 0 0 0 0 0 0 0 0 0 0 0\n",
      " 0 0 0 0 0 0 0 0 0 0 1 1 1 1 1 1 0 0 0 0 0 0 1 1 1 1]\n"
     ]
    }
   ],
   "source": [
    "print(P)"
   ]
  },
  {
   "cell_type": "markdown",
   "metadata": {},
   "source": [
    "### Fonction permettant de faire appel à la fonction cross_val_score en prenant en paramètres"
   ]
  },
  {
   "cell_type": "code",
   "execution_count": 16,
   "metadata": {},
   "outputs": [],
   "source": [
    "#le modèle clf, le dataset ainsi que le nombre de \"folds\"\n",
    "\n",
    "def use_of_cross_val_score(clf,Attribut,list2,i):\n",
    "    scores = cross_val_score(clf, Attribut, Classe, cv=i) #Divise la partie data et la partie target sur i groupe (folds)\n",
    "    \n",
    "    errors= 1-scores # Tableau des pourcentage des erreur\n",
    "    \n",
    "    #Calcul de la moyenne des erreurs pour chaque Cv\n",
    "    moy=0\n",
    "    for i in range(errors.size):\n",
    "        moy+=errors[i]/errors.size\n",
    "    return moy"
   ]
  },
  {
   "cell_type": "markdown",
   "metadata": {},
   "source": [
    "# Data Evaluation"
   ]
  },
  {
   "cell_type": "markdown",
   "metadata": {},
   "source": [
    "### Application du modèle cross val score avec 5 folds"
   ]
  },
  {
   "cell_type": "code",
   "execution_count": 17,
   "metadata": {},
   "outputs": [
    {
     "name": "stdout",
     "output_type": "stream",
     "text": [
      "0.4689138070773325\n"
     ]
    }
   ],
   "source": [
    "z = use_of_cross_val_score(dtc,Attribut,list2,5)\n",
    "print(z)"
   ]
  },
  {
   "cell_type": "markdown",
   "metadata": {},
   "source": [
    "### Application du modèle cross val score avec 10 folds"
   ]
  },
  {
   "cell_type": "code",
   "execution_count": 18,
   "metadata": {},
   "outputs": [
    {
     "name": "stdout",
     "output_type": "stream",
     "text": [
      "0.39036111663776274\n"
     ]
    }
   ],
   "source": [
    "t = use_of_cross_val_score(dtc,Attribut,list2,10)\n",
    "print(t)"
   ]
  },
  {
   "cell_type": "markdown",
   "metadata": {},
   "source": [
    "## Le Modéle Random Forest"
   ]
  },
  {
   "cell_type": "code",
   "execution_count": 36,
   "metadata": {},
   "outputs": [
    {
     "name": "stdout",
     "output_type": "stream",
     "text": [
      "[b'27.6' b'27.6' b'25.7' b'23.3' b'25.7' b'25.7' b'13.1' b'13.1' b'13.1'\n",
      " b'13.1' b'13.1' b'13.1' b'14.6' b'13.1' b'13.1' b'13.1' b'13.1' b'13.1'\n",
      " b'13.1' b'13.1' b'13.1' b'14.4' b'14.4' b'14.4' b'31.9' b'31.9' b'31.9'\n",
      " b'31.9' b'31.9' b'31.9' b'31.9' b'31.9' b'31.9' b'31.9' b'31.9' b'31.9'\n",
      " b'52.4' b'52.4' b'42.4' b'42.4' b'42.4' b'42.4' b'38.8' b'38.8' b'38.4'\n",
      " b'38.4' b'35.7' b'35.7' b'14.4' b'14.4' b'14.4' b'14.4' b'14.4' b'14.4'\n",
      " b'31.9' b'44.0' b'31.9' b'31.9' b'46.5' b'46.5' b'46.5' b'46.5' b'46.5'\n",
      " b'45.6' b'42.4' b'42.4' b'42.4' b'42.4' b'42.4' b'42.4' b'52.9' b'52.9'\n",
      " b'52.9' b'52.9' b'52.9' b'52.9' b'13.1' b'13.1' b'31.9' b'13.3' b'18.4'\n",
      " b'13.3' b'13.3' b'13.3' b'13.3' b'13.1' b'14.4' b'14.4' b'13.1' b'13.1'\n",
      " b'13.1' b'13.1' b'13.1' b'13.1' b'13.1' b'13.1' b'13.1' b'14.4' b'14.4'\n",
      " b'14.4' b'14.4' b'14.4' b'13.1' b'42.4' b'42.4' b'42.4' b'42.4' b'42.4'\n",
      " b'42.4' b'13.8' b'13.8' b'13.8' b'35.7' b'13.8' b'13.8' b'52.4' b'52.4'\n",
      " b'52.4' b'52.4' b'52.4' b'52.4' b'48.4' b'48.4' b'35.7' b'48.4' b'42.4'\n",
      " b'48.4' b'45.6' b'18.4' b'18.4' b'18.4' b'13.3' b'45.6' b'46.5' b'46.5'\n",
      " b'46.5' b'46.5' b'46.5' b'46.5' b'25.8' b'25.8' b'25.8' b'12.1' b'12.1'\n",
      " b'25.8' b'14.4' b'14.4' b'14.4' b'14.4' b'14.4' b'14.4' b'42.4' b'42.4'\n",
      " b'42.4' b'42.4' b'42.4' b'42.4' b'13.8' b'17.7' b'17.7' b'17.7' b'35.5'\n",
      " b'35.5' b'52.9' b'35.5' b'52.9' b'52.9' b'13.1' b'13.1' b'13.1' b'13.1'\n",
      " b'13.1' b'13.1' b'13.1' b'13.1' b'13.1' b'13.1' b'13.1' b'13.1' b'52.9'\n",
      " b'25.7' b'52.9' b'52.9' b'52.9' b'52.9' b'13.1' b'13.1' b'13.1' b'13.1'\n",
      " b'13.1' b'13.1' b'13.1' b'13.1' b'13.1' b'13.1' b'13.1' b'13.1' b'13.1'\n",
      " b'13.1' b'13.1' b'13.1' b'13.1' b'13.1' b'13.8' b'14.4' b'14.4' b'14.4'\n",
      " b'13.8' b'13.8' b'52.4' b'52.4' b'52.4' b'52.4' b'52.4' b'52.4' b'13.3'\n",
      " b'13.3' b'13.3' b'13.3' b'13.3' b'13.3' b'13.1' b'13.1' b'13.1' b'13.1'\n",
      " b'13.1' b'13.1' b'13.1' b'13.1' b'13.1' b'13.1' b'44.0' b'44.0' b'13.1'\n",
      " b'13.1' b'13.1' b'13.1' b'13.1' b'13.1' b'31.9' b'31.9' b'31.9' b'31.9'\n",
      " b'31.9' b'44.0' b'13.1' b'13.1' b'14.4' b'14.4' b'13.1' b'14.4' b'13.1'\n",
      " b'13.1' b'13.1' b'13.1' b'13.1' b'13.1' b'45.4' b'13.3' b'13.3' b'12.6'\n",
      " b'13.3' b'13.3' b'46.5' b'46.5' b'46.5' b'46.5' b'46.5' b'46.5' b'14.4'\n",
      " b'14.4' b'14.4' b'52.4' b'38.4' b'38.4' b'37.8' b'38.4' b'35.7' b'14.4'\n",
      " b'14.4' b'14.4' b'14.4' b'13.1' b'14.4' b'54.1' b'54.1' b'54.1' b'21.4'\n",
      " b'21.4' b'13.8' b'41.7' b'13.8' b'13.8' b'12.1' b'12.1' b'12.1' b'25.8'\n",
      " b'25.8' b'25.8' b'46.5' b'13.1' b'31.9' b'13.1' b'13.1' b'13.1' b'13.1'\n",
      " b'13.1' b'14.4' b'14.4' b'14.4' b'14.4' b'14.4' b'14.4' b'13.1' b'13.1'\n",
      " b'13.1' b'13.1' b'13.1' b'13.1' b'35.5' b'35.5' b'35.5' b'52.9' b'52.9'\n",
      " b'52.9' b'13.8' b'13.8' b'11.6' b'11.6' b'11.6' b'13.8' b'45.6' b'45.6'\n",
      " b'45.6' b'45.6' b'45.6' b'45.6' b'35.7' b'35.7' b'35.7' b'35.7' b'35.7'\n",
      " b'35.7' b'13.1' b'13.1' b'13.1' b'13.1' b'30.4' b'13.3' b'30.4' b'30.4'\n",
      " b'30.4' b'30.4' b'46.5' b'46.5' b'46.5' b'46.5' b'46.5' b'46.5' b'25.7'\n",
      " b'25.7' b'27.6' b'25.7' b'25.7' b'25.7' b'14.4' b'14.4' b'14.4' b'14.4'\n",
      " b'14.4' b'14.4' b'13.1' b'13.1' b'13.1' b'13.1' b'31.9' b'13.1' b'25.7'\n",
      " b'25.7' b'25.7' b'25.7' b'25.7' b'23.3' b'31.9' b'31.9' b'31.9' b'31.9'\n",
      " b'31.9' b'31.9' b'31.9' b'31.9' b'35.7' b'35.7' b'35.7' b'35.7' b'35.7'\n",
      " b'35.7' b'14.6' b'14.6' b'18.3' b'18.3' b'12.1' b'18.3' b'35.7' b'35.7'\n",
      " b'35.7' b'35.7' b'35.7' b'35.7' b'21.4' b'21.4' b'21.4' b'21.4' b'21.4'\n",
      " b'21.4' b'13.1' b'13.1' b'13.1' b'13.1' b'13.1' b'13.1' b'26.5' b'28.2'\n",
      " b'26.5' b'30.4' b'30.4' b'30.4' b'45.6' b'45.6' b'45.6' b'45.6' b'45.6'\n",
      " b'45.6' b'52.4' b'52.4' b'52.4' b'52.4' b'35.7' b'52.4' b'31.9' b'31.9'\n",
      " b'31.9' b'31.9' b'31.9' b'31.9' b'42.4' b'42.4' b'42.4' b'42.4' b'42.4'\n",
      " b'34.2' b'35.7' b'38.4' b'38.4' b'38.4' b'38.4' b'38.4' b'14.4' b'14.4'\n",
      " b'14.4' b'14.4' b'14.4' b'14.4' b'52.4' b'52.4' b'52.4' b'52.4' b'52.4'\n",
      " b'52.4' b'13.1' b'13.1' b'13.1' b'45.6' b'35.5' b'35.5' b'35.5' b'35.5'\n",
      " b'35.5' b'35.7' b'35.7' b'35.7' b'35.7' b'42.4' b'42.4' b'42.4' b'42.4'\n",
      " b'42.4' b'42.4' b'52.4' b'18.3' b'27.6' b'32.0' b'12.1' b'52.4' b'13.1'\n",
      " b'13.1' b'13.1' b'14.4' b'13.1' b'13.1' b'27.7' b'17.7' b'27.7' b'14.6'\n",
      " b'27.7' b'27.7' b'14.4' b'14.4' b'14.4' b'14.4' b'14.4' b'14.4' b'35.7'\n",
      " b'35.7' b'35.7' b'35.7' b'35.7' b'35.7' b'18.3' b'26.5' b'27.6' b'26.7'\n",
      " b'26.7' b'26.7' b'35.7' b'35.7' b'13.8' b'35.7' b'35.7' b'35.7' b'31.9'\n",
      " b'31.9' b'13.1' b'31.9' b'13.1' b'31.9' b'25.8' b'25.8' b'25.8' b'25.8'\n",
      " b'25.8' b'25.8' b'46.5' b'46.5' b'46.5' b'46.5' b'46.5' b'46.5' b'14.4'\n",
      " b'14.4' b'14.4' b'14.4' b'14.4' b'14.4' b'31.9' b'31.9' b'31.9' b'31.9'\n",
      " b'31.9' b'31.9' b'12.1' b'12.1' b'12.1' b'12.1' b'25.8' b'12.1' b'31.9'\n",
      " b'44.0' b'13.1' b'13.1' b'13.1' b'13.1' b'14.4' b'14.4' b'14.4' b'14.4'\n",
      " b'14.4' b'14.4' b'14.4' b'14.4' b'13.3' b'13.3' b'13.3' b'12.6' b'12.6'\n",
      " b'13.3' b'14.4' b'14.4' b'14.4' b'14.4' b'14.4' b'14.4' b'18.4' b'18.4'\n",
      " b'13.3' b'13.3' b'13.3' b'13.3' b'13.1' b'13.1' b'13.1' b'13.1' b'13.1'\n",
      " b'13.1' b'13.3' b'13.3' b'13.3' b'13.3' b'13.3' b'13.3' b'38.8' b'38.8'\n",
      " b'38.8' b'38.8' b'38.8' b'35.7' b'31.9' b'31.9' b'31.9' b'31.9' b'44.0'\n",
      " b'31.9' b'30.4' b'30.4' b'28.2' b'26.5' b'30.4' b'28.2' b'13.1' b'13.1'\n",
      " b'13.1' b'13.1' b'13.1' b'13.1' b'35.7' b'35.7' b'35.7' b'13.8' b'35.7'\n",
      " b'35.7' b'45.6' b'52.9' b'52.9' b'52.9' b'52.9' b'52.9' b'14.4' b'14.4'\n",
      " b'14.4' b'14.4' b'13.1' b'14.4' b'13.1' b'13.1' b'13.1' b'13.1' b'13.1'\n",
      " b'13.1' b'52.9' b'52.9' b'52.9' b'52.9' b'52.9' b'52.9' b'31.9' b'45.6'\n",
      " b'45.6' b'45.6' b'45.6' b'45.6' b'45.6' b'13.1' b'13.1' b'31.9' b'13.1'\n",
      " b'31.9' b'13.1' b'13.1' b'13.1' b'13.1' b'13.1' b'13.1' b'35.7' b'35.7'\n",
      " b'35.7' b'35.7' b'35.7' b'35.7' b'13.1' b'29.8' b'44.0' b'44.0' b'13.1'\n",
      " b'13.1' b'14.4' b'14.4' b'14.4' b'14.4' b'14.4' b'14.4' b'18.3' b'18.3'\n",
      " b'18.3' b'12.1' b'18.3' b'12.1' b'14.4' b'14.4' b'14.4' b'14.4' b'14.4'\n",
      " b'14.4' b'18.4' b'13.3' b'13.3' b'18.4' b'18.4' b'18.4' b'13.1' b'13.1'\n",
      " b'13.1' b'13.1' b'13.1' b'13.1' b'52.4' b'52.4' b'52.4' b'52.4' b'52.4'\n",
      " b'52.4' b'13.1' b'13.1' b'13.1' b'13.1' b'13.1' b'13.1' b'46.5' b'46.5'\n",
      " b'46.5' b'46.5' b'46.5' b'46.5' b'35.7' b'35.7' b'35.7' b'35.7' b'35.7'\n",
      " b'35.7' b'31.9' b'44.0' b'31.9' b'31.9' b'31.9' b'31.9' b'52.4' b'52.4'\n",
      " b'52.4' b'18.3' b'18.3' b'18.3' b'45.6' b'45.6' b'45.6' b'52.9' b'52.9'\n",
      " b'52.9' b'35.7' b'35.7' b'35.7' b'35.7' b'35.7' b'25.7' b'25.7' b'25.7'\n",
      " b'25.7' b'25.7' b'25.7' b'35.7' b'35.7' b'35.7' b'35.7' b'35.7' b'35.7'\n",
      " b'45.6' b'45.6' b'45.6' b'45.6' b'45.6' b'45.6' b'14.4' b'14.4' b'14.4'\n",
      " b'14.4' b'14.4' b'14.4' b'18.3' b'25.8' b'25.8' b'25.8' b'25.8' b'25.8'\n",
      " b'14.4' b'14.4' b'14.4' b'14.4' b'14.4' b'14.4' b'21.4' b'21.4' b'21.4'\n",
      " b'21.4' b'21.4' b'21.4' b'13.1' b'13.1' b'13.1' b'13.1' b'13.1' b'13.1'\n",
      " b'14.4' b'14.4' b'14.4' b'14.4' b'14.4' b'14.4' b'35.5' b'18.4' b'18.4'\n",
      " b'18.4' b'13.3' b'18.4' b'42.2' b'52.9' b'51.2' b'52.9' b'52.9' b'52.9'\n",
      " b'44.0' b'44.0' b'44.0' b'44.0' b'44.0' b'46.5' b'46.5' b'46.5' b'46.5'\n",
      " b'46.5' b'46.5' b'13.1' b'13.1' b'13.1' b'13.1' b'13.1' b'13.1' b'13.1'\n",
      " b'44.0' b'44.0' b'11.2' b'13.1' b'31.9' b'31.9' b'31.9' b'31.9' b'31.9'\n",
      " b'31.9' b'25.7' b'18.4' b'18.4' b'18.4' b'18.4' b'18.4' b'31.9' b'31.9'\n",
      " b'31.9' b'31.9' b'31.9' b'31.9' b'45.6' b'45.6' b'45.6' b'45.6' b'45.6'\n",
      " b'45.6' b'31.9' b'31.9' b'35.7' b'35.7' b'35.7' b'51.0' b'51.0' b'35.7'\n",
      " b'12.7' b'14.4' b'14.4' b'14.4' b'14.4' b'14.4' b'46.5' b'46.5' b'46.5'\n",
      " b'46.5' b'46.5' b'46.5' b'45.6' b'45.6' b'45.6' b'45.6' b'46.5' b'45.6'\n",
      " b'13.1' b'13.1' b'13.1' b'13.1' b'13.1' b'13.1' b'13.8' b'13.8' b'13.8'\n",
      " b'13.8' b'13.8' b'13.8' b'35.7' b'35.7' b'35.7' b'35.7' b'35.7' b'35.7'\n",
      " b'45.6' b'45.6' b'45.6' b'46.5' b'46.5' b'46.5' b'21.4' b'21.4' b'21.4'\n",
      " b'21.4' b'21.4' b'21.4' b'13.3' b'13.3' b'13.3' b'13.3' b'13.3' b'13.3'\n",
      " b'13.1' b'13.1' b'13.1' b'13.1' b'13.1' b'13.1' b'13.1' b'13.1' b'13.1'\n",
      " b'13.1' b'13.1' b'13.1' b'13.1' b'17.7' b'17.7' b'10.3' b'29.0' b'29.0'\n",
      " b'13.1' b'13.1' b'13.1' b'13.1' b'13.1' b'13.1' b'13.1' b'13.1' b'13.1'\n",
      " b'13.1' b'13.1' b'13.1' b'31.9' b'31.9' b'31.9' b'31.9' b'31.9' b'31.9'\n",
      " b'52.4' b'52.4' b'52.4' b'52.4' b'52.4' b'52.4' b'62.2' b'62.2' b'62.2'\n",
      " b'62.2' b'35.7' b'35.7' b'14.4' b'14.4' b'14.4' b'14.4' b'14.4' b'12.7'\n",
      " b'13.1']\n",
      "9.86\n"
     ]
    }
   ],
   "source": [
    "#Create a Gaussian Classifier\n",
    "rf=RandomForestClassifier(n_estimators=100)\n",
    "\n",
    "#Train the model using the training sets y_pred=clf.predict(X_test)\n",
    "rf.fit(Attribut[:999],Classe[:999])\n",
    "\n",
    "y_pred=rf.predict(Attribut[1000:2000])\n",
    "\n",
    "print(y_pred)\n",
    "\n",
    "#Taux d'erreur\n",
    "ea = 0\n",
    "for i in range(len(y_pred)):\n",
    "    if (y_pred[i] != Classe[i]):\n",
    "        ea = ea+1\n",
    "print(ea/len(P))"
   ]
  },
  {
   "cell_type": "markdown",
   "metadata": {},
   "source": [
    "## Application de la methode Cross val score sur le modéle Random Forest"
   ]
  },
  {
   "cell_type": "code",
   "execution_count": null,
   "metadata": {},
   "outputs": [],
   "source": [
    "t2 = use_of_cross_val_score(rf,Attribut,list2,10)\n",
    "print(t2)"
   ]
  },
  {
   "cell_type": "code",
   "execution_count": null,
   "metadata": {},
   "outputs": [],
   "source": []
  }
 ],
 "metadata": {
  "kernelspec": {
   "display_name": "Python 3",
   "language": "python",
   "name": "python3"
  },
  "language_info": {
   "codemirror_mode": {
    "name": "ipython",
    "version": 3
   },
   "file_extension": ".py",
   "mimetype": "text/x-python",
   "name": "python",
   "nbconvert_exporter": "python",
   "pygments_lexer": "ipython3",
   "version": "3.7.1"
  }
 },
 "nbformat": 4,
 "nbformat_minor": 2
}
